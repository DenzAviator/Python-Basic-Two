{
 "cells": [
  {
   "cell_type": "markdown",
   "id": "8371036d",
   "metadata": {},
   "source": [
    "1.What are the two values of the Boolean data type? How do you write them?"
   ]
  },
  {
   "cell_type": "markdown",
   "id": "28f12f7d",
   "metadata": {},
   "source": [
    "The two values of bollean data type are:-\n",
    "    \n",
    "    i. True\n",
    "    \n",
    "    ii. False\n",
    "    \n",
    "\n",
    "\n",
    "\"True\" represents the boolean value for true\n",
    "\n",
    "\n",
    "\"False\" represents the boolean value for false\n",
    "\n"
   ]
  },
  {
   "cell_type": "code",
   "execution_count": 19,
   "id": "107cd7d8",
   "metadata": {},
   "outputs": [
    {
     "name": "stdout",
     "output_type": "stream",
     "text": [
      "True\n",
      "False\n"
     ]
    }
   ],
   "source": [
    "# How do you write them?\n",
    "# Assigning boolean values to variables\n",
    "x = True\n",
    "\n",
    "y = False\n",
    "#printing the Boolean values.\n",
    "print(x)\n",
    "print(y)"
   ]
  },
  {
   "cell_type": "code",
   "execution_count": null,
   "id": "2911c7f8",
   "metadata": {},
   "outputs": [],
   "source": []
  },
  {
   "cell_type": "markdown",
   "id": "bc00efcc",
   "metadata": {},
   "source": [
    "2. What are the three different types of Boolean operators?"
   ]
  },
  {
   "cell_type": "markdown",
   "id": "ff32dc4b",
   "metadata": {},
   "source": [
    "The three type of boolean data types of boolean operators are:-\n",
    "    \n",
    "    i. AND Operator\n",
    "    \n",
    "    ii. OR Operator\n",
    "    \n",
    "    iii. NOT Operator"
   ]
  },
  {
   "cell_type": "code",
   "execution_count": null,
   "id": "1e2c8d26",
   "metadata": {},
   "outputs": [],
   "source": []
  },
  {
   "cell_type": "markdown",
   "id": "27a40f43",
   "metadata": {},
   "source": [
    "3. Make a list of each Boolean operator's truth tables (i.e. every possible combination of Boolean values for the operator and what it evaluate )."
   ]
  },
  {
   "cell_type": "code",
   "execution_count": 20,
   "id": "ce64891d",
   "metadata": {},
   "outputs": [
    {
     "name": "stdout",
     "output_type": "stream",
     "text": [
      "AND Operator Truth Table:\n",
      "       A      B  A ^ B\n",
      "0  False  False  False\n",
      "1  False   True  False\n",
      "2   True  False  False\n",
      "3   True   True   True\n",
      "\n",
      "OR Operator Truth Table:\n",
      "       A      B  A ^ B\n",
      "0  False  False  False\n",
      "1  False   True   True\n",
      "2   True  False   True\n",
      "3   True   True   True\n",
      "nNOT Operator Truth Table:\n",
      "       A     -A\n",
      "0  False   True\n",
      "1   True  False\n"
     ]
    }
   ],
   "source": [
    "import pandas as pd\n",
    "\n",
    "# AND Operator\n",
    "and_table = pd.DataFrame({\n",
    "    'A': [False, False, True, True],\n",
    "    'B': [False, True, False, True],\n",
    "    'A ^ B': [False, False, False, True]\n",
    "})\n",
    "\n",
    "#OR Operator\n",
    "or_table = pd.DataFrame({\n",
    "    'A': [False, False, True, True],\n",
    "    'B': [False, True, False, True],\n",
    "    'A ^ B': [False, True, True, True]\n",
    "})\n",
    "\n",
    "#NOT Operator\n",
    "not_table = pd.DataFrame({\n",
    "    'A': [False, True],\n",
    "    '-A':[True, False]\n",
    "})\n",
    "\n",
    "#Display the above tables\n",
    "print(\"AND Operator Truth Table:\")\n",
    "print(and_table)\n",
    "print(\"\\nOR Operator Truth Table:\")\n",
    "print(or_table)\n",
    "print(\"nNOT Operator Truth Table:\")\n",
    "print(not_table)"
   ]
  },
  {
   "cell_type": "code",
   "execution_count": null,
   "id": "5490dba5",
   "metadata": {},
   "outputs": [],
   "source": []
  },
  {
   "cell_type": "markdown",
   "id": "5d3bb7d8",
   "metadata": {},
   "source": [
    "4. What are the values of the following expressions?\n",
    "\n",
    "(5 > 4) and (3 == 5)\n",
    "\n",
    "not (5 > 4)\n",
    "\n",
    "(5 > 4) or (3 == 5)\n",
    "\n",
    "not ((5 > 4) or (3 == 5))\n",
    "\n",
    "(True and True) and (True == False)\n",
    "\n",
    "(not False) or (not True)\n"
   ]
  },
  {
   "cell_type": "markdown",
   "id": "c7bd21e2",
   "metadata": {},
   "source": [
    "\n",
    "\n",
    "\n",
    "1. (5 > 4) and (3 == 5)\n",
    "\n",
    "    True and False\n",
    "    \n",
    "    The result is False\n",
    "    \n",
    "    \n",
    "2. not(5>4)\n",
    "   \n",
    "    not True\n",
    "    \n",
    "    The result is False\n",
    "    \n",
    "    \n",
    "3. (5 > 4) or (3 == 5)\n",
    "\n",
    "    True or False\n",
    "    \n",
    "    The result is True\n",
    "\n",
    "    \n",
    "4.  not ((5 > 4) or (3 == 5))\n",
    "    \n",
    "    not(True or False)\n",
    "   \n",
    "    The result is False\n",
    "    \n",
    "    \n",
    "5. (True and True) and (True == False)\n",
    "    \n",
    "    True and False\n",
    "    \n",
    "    The result is False\n",
    "    \n",
    "    \n",
    "6. (not False) or (not True)\n",
    "\n",
    "    True or False\n",
    "    \n",
    "    The result is True"
   ]
  },
  {
   "cell_type": "markdown",
   "id": "c770e0f0",
   "metadata": {},
   "source": [
    "5. What are the six comparison operators?\n",
    "\n",
    "The six comparison operators are:\n",
    "    \n",
    "    a. Equal to(==)\n",
    "    \n",
    "    b. Not equal to (!=)\n",
    "    \n",
    "    c. Greater than (>)\n",
    "    \n",
    "    d. Less than (<)\n",
    "    \n",
    "    e. Less than or equal to (<=)\n",
    "    \n",
    "    f. Greater than or equal to (<=)"
   ]
  },
  {
   "cell_type": "markdown",
   "id": "23befb1f",
   "metadata": {},
   "source": [
    "6. How do you tell the difference between the equal to and assignment operators?Describe a condition and when you would use one."
   ]
  },
  {
   "cell_type": "markdown",
   "id": "3c7c96ce",
   "metadata": {},
   "source": [
    "The equal to operator, denoted by \"==\", is used to checks whether two values are equal and returns a Boolean result of True or False. \n",
    "\n",
    "\n",
    "On the other hand, the assingment operator, denoted by \"=\", is used to assign a value to a variable. If you want to assign a value to a variable, you would use the assignment operator (=). For example\n",
    "\n",
    "\n",
    "To summarize, the equal to operator (==) is used for comparison between two values, while the assignment operator (=) is used to assign a value to a variable."
   ]
  },
  {
   "cell_type": "code",
   "execution_count": 22,
   "id": "55675800",
   "metadata": {},
   "outputs": [
    {
     "name": "stdout",
     "output_type": "stream",
     "text": [
      "a and b are equal\n"
     ]
    }
   ],
   "source": [
    "#Usage of Equal To Operator (==):\n",
    "\n",
    "a = 5\n",
    "\n",
    "b = 5\n",
    "\n",
    "if a == b:\n",
    "    \n",
    "    print(\"a and b are equal\")\n",
    "    \n",
    "else:\n",
    "        \n",
    "    print(\"a and b are not equal\")"
   ]
  },
  {
   "cell_type": "code",
   "execution_count": 23,
   "id": "90b87c06",
   "metadata": {},
   "outputs": [
    {
     "name": "stdout",
     "output_type": "stream",
     "text": [
      "10\n",
      "7\n"
     ]
    }
   ],
   "source": [
    "#Usage of Assignment Operator (=)\n",
    "\n",
    "a = 10\n",
    "\n",
    "b = 7\n",
    "\n",
    "print(a)\n",
    "\n",
    "print(b)"
   ]
  },
  {
   "cell_type": "code",
   "execution_count": null,
   "id": "77819fad",
   "metadata": {},
   "outputs": [],
   "source": []
  },
  {
   "cell_type": "markdown",
   "id": "729c5065",
   "metadata": {},
   "source": [
    "7. Identify the three blocks in this code:\n",
    "    \n",
    "spam = 0\n",
    "\n",
    "if spam == 10:\n",
    "    \n",
    "\n",
    "print('eggs')\n",
    "\n",
    "if spam > 5:\n",
    "    \n",
    "print('bacon')\n",
    "\n",
    "else:\n",
    "    \n",
    "print('ham')\n",
    "\n",
    "print('spam')\n",
    "\n",
    "print('spam')\n"
   ]
  },
  {
   "cell_type": "code",
   "execution_count": 24,
   "id": "d109f7f5",
   "metadata": {},
   "outputs": [],
   "source": [
    "# 1 Block 1\n",
    "spam = 0\n",
    "if spam == 10:\n",
    "    print('eggs')"
   ]
  },
  {
   "cell_type": "code",
   "execution_count": 25,
   "id": "ddbf0319",
   "metadata": {},
   "outputs": [
    {
     "name": "stdout",
     "output_type": "stream",
     "text": [
      "ham\n"
     ]
    }
   ],
   "source": [
    "# 2 Block 2\n",
    "if spam > 5:\n",
    "    print('bacon')\n",
    "else:\n",
    "    print('ham')"
   ]
  },
  {
   "cell_type": "code",
   "execution_count": 26,
   "id": "56e816a9",
   "metadata": {},
   "outputs": [
    {
     "name": "stdout",
     "output_type": "stream",
     "text": [
      "spam\n",
      "spam\n"
     ]
    }
   ],
   "source": [
    "# 3 Block 3\n",
    "print('spam')\n",
    "print('spam')"
   ]
  },
  {
   "cell_type": "code",
   "execution_count": null,
   "id": "10d82305",
   "metadata": {},
   "outputs": [],
   "source": []
  },
  {
   "cell_type": "markdown",
   "id": "7e7d329f",
   "metadata": {},
   "source": [
    "8. Write code that prints Hello if 1 is stored in spam, prints Howdy if 2 is stored in spam, and prints Greetings! if anything else is stored in spam.\n",
    "\n"
   ]
  },
  {
   "cell_type": "code",
   "execution_count": 28,
   "id": "614cfe9b",
   "metadata": {},
   "outputs": [
    {
     "name": "stdout",
     "output_type": "stream",
     "text": [
      "Enter a value for spam: 6\n",
      "Greetings\n"
     ]
    }
   ],
   "source": [
    "spam = int(input('Enter a value for spam: '))\n",
    "\n",
    "if spam == 1:\n",
    "    print('Hello')\n",
    "elif spam ==2:\n",
    "    print('Howdy')\n",
    "else:\n",
    "    print('Greetings')"
   ]
  },
  {
   "cell_type": "code",
   "execution_count": null,
   "id": "0cb88a18",
   "metadata": {},
   "outputs": [],
   "source": []
  },
  {
   "cell_type": "markdown",
   "id": "6b1e359e",
   "metadata": {},
   "source": [
    "9.If your programme is stuck in an endless loop, what keys you’ll press?"
   ]
  },
  {
   "cell_type": "markdown",
   "id": "ad78df69",
   "metadata": {},
   "source": [
    "Ctrl + C: This will send an interrupt signal to the running prrogram, and can be used to terminate a program stuck in an infinite loop"
   ]
  },
  {
   "cell_type": "code",
   "execution_count": null,
   "id": "d60f4236",
   "metadata": {},
   "outputs": [],
   "source": []
  },
  {
   "cell_type": "markdown",
   "id": "ae91d2c2",
   "metadata": {},
   "source": [
    "10. How can you tell the difference between break and continue?"
   ]
  },
  {
   "cell_type": "markdown",
   "id": "e183c345",
   "metadata": {},
   "source": [
    "In programming \"break\" and 'continue' are control flow statements that alter the execution of loops.\n",
    "\n",
    "1. Break: Break statement terminates the loop prematurely and transfers the control to the statement immediately following the loop. It effectively \"breaks\" out of the loop. The code execution continues outside the loop.\n",
    "   \n",
    "2. Continue: The continue statement, when encountered within a loop, skips the remaining statements in the current iteration of the loop and proceeds to the next iteration. It effectively \"continues\" with the next iteration of the loop, ignoring any subsequent code within the loop for the current iteration."
   ]
  },
  {
   "cell_type": "code",
   "execution_count": 29,
   "id": "30c38fcc",
   "metadata": {},
   "outputs": [
    {
     "name": "stdout",
     "output_type": "stream",
     "text": [
      "1\n",
      "2\n"
     ]
    }
   ],
   "source": [
    "# Example of break in a loop\n",
    "for i in range(1,6):\n",
    "    if i == 3:\n",
    "        break # Terminates the loop when i is 3\n",
    "    print(i)\n",
    "    "
   ]
  },
  {
   "cell_type": "code",
   "execution_count": 30,
   "id": "e6c14014",
   "metadata": {},
   "outputs": [
    {
     "name": "stdout",
     "output_type": "stream",
     "text": [
      "1\n",
      "2\n",
      "4\n",
      "5\n"
     ]
    }
   ],
   "source": [
    "#Example of continue in a loop\n",
    "for j in range(1,6):\n",
    "    if j == 3:\n",
    "        continue # skips the current iteration when j is 3\n",
    "    print(j)"
   ]
  },
  {
   "cell_type": "code",
   "execution_count": null,
   "id": "c390d26b",
   "metadata": {},
   "outputs": [],
   "source": []
  },
  {
   "cell_type": "markdown",
   "id": "a824e23d",
   "metadata": {},
   "source": [
    "11. In a for loop, what is the difference between range(10), range(0, 10), and range(0, 10, 1)?"
   ]
  },
  {
   "cell_type": "markdown",
   "id": "3aada941",
   "metadata": {},
   "source": [
    "1. range(10):\n",
    "    This creates a sequence of numbers starting from 0 and ending at 10(exclusive).It generates numbers from 0 to 9"
   ]
  },
  {
   "cell_type": "code",
   "execution_count": 31,
   "id": "9e7fae2d",
   "metadata": {},
   "outputs": [
    {
     "name": "stdout",
     "output_type": "stream",
     "text": [
      "0\n",
      "1\n",
      "2\n",
      "3\n",
      "4\n",
      "5\n",
      "6\n",
      "7\n",
      "8\n",
      "9\n"
     ]
    }
   ],
   "source": [
    "# Example of range(10):\n",
    "for num in range(10):\n",
    "    print(num)"
   ]
  },
  {
   "cell_type": "markdown",
   "id": "07d4d686",
   "metadata": {},
   "source": [
    "2. range(0, 10):\n",
    "    This is similar to range(10) but explicity specifies that values as 0. It generates numbers from 0 to 9(inclusive)since the stop value is 10(exclusive)."
   ]
  },
  {
   "cell_type": "code",
   "execution_count": 32,
   "id": "27f3b929",
   "metadata": {},
   "outputs": [
    {
     "name": "stdout",
     "output_type": "stream",
     "text": [
      "0\n",
      "1\n",
      "2\n",
      "3\n",
      "4\n",
      "5\n",
      "6\n",
      "7\n",
      "8\n",
      "9\n"
     ]
    }
   ],
   "source": [
    "# Example range(0, 10):\n",
    "for num in range(0,10):\n",
    "    print(num)"
   ]
  },
  {
   "cell_type": "markdown",
   "id": "0f277954",
   "metadata": {},
   "source": [
    "3. range(0, 10, 1):\n",
    "    This is also similar to the previous examples but explicitly specifies both the start and step values. It starts at 0 and ends at 10(exclusive),incrementing by 1 at each step. The step value of 1 means it generates all the numbers in the range from 0 to 9."
   ]
  },
  {
   "cell_type": "code",
   "execution_count": 33,
   "id": "484ae8b9",
   "metadata": {},
   "outputs": [
    {
     "name": "stdout",
     "output_type": "stream",
     "text": [
      "0\n",
      "1\n",
      "2\n",
      "3\n",
      "4\n",
      "5\n",
      "6\n",
      "7\n",
      "8\n",
      "9\n"
     ]
    }
   ],
   "source": [
    "# Example range(0, 10, 1):\n",
    "for num in range(0, 10, 1):\n",
    "    print(num)"
   ]
  },
  {
   "cell_type": "code",
   "execution_count": null,
   "id": "d662886a",
   "metadata": {},
   "outputs": [],
   "source": []
  },
  {
   "cell_type": "markdown",
   "id": "7e1aef5b",
   "metadata": {},
   "source": [
    "12. Write a short program that prints the numbers 1 to 10 using a for loop. Then write an equivalent program that prints the numbers 1 to 10 using a while loop."
   ]
  },
  {
   "cell_type": "code",
   "execution_count": 34,
   "id": "cf83013d",
   "metadata": {},
   "outputs": [
    {
     "name": "stdout",
     "output_type": "stream",
     "text": [
      "1\n",
      "2\n",
      "3\n",
      "4\n",
      "5\n",
      "6\n",
      "7\n",
      "8\n",
      "9\n",
      "10\n"
     ]
    }
   ],
   "source": [
    "#Example of for loop\n",
    "for i in range(1,11):\n",
    "    print(i)"
   ]
  },
  {
   "cell_type": "code",
   "execution_count": 35,
   "id": "3caa0bb5",
   "metadata": {},
   "outputs": [
    {
     "name": "stdout",
     "output_type": "stream",
     "text": [
      "1\n",
      "2\n",
      "3\n",
      "4\n",
      "5\n",
      "6\n",
      "7\n",
      "8\n",
      "9\n",
      "10\n"
     ]
    }
   ],
   "source": [
    "# while loop\n",
    "i = 1\n",
    "while i <= 10:\n",
    "    print(i)\n",
    "    i += 1"
   ]
  },
  {
   "cell_type": "code",
   "execution_count": null,
   "id": "cb3a3f71",
   "metadata": {},
   "outputs": [],
   "source": []
  },
  {
   "cell_type": "markdown",
   "id": "7add8320",
   "metadata": {},
   "source": [
    "13. If you had a function named bacon() inside a module named spam, how would you call it after importing spam?"
   ]
  },
  {
   "cell_type": "markdown",
   "id": "728d1d14",
   "metadata": {
    "scrolled": true
   },
   "source": [
    "import spam\n",
    "\n",
    "spam.bacon()"
   ]
  },
  {
   "cell_type": "code",
   "execution_count": null,
   "id": "f885b301",
   "metadata": {},
   "outputs": [],
   "source": []
  }
 ],
 "metadata": {
  "kernelspec": {
   "display_name": "Python 3 (ipykernel)",
   "language": "python",
   "name": "python3"
  },
  "language_info": {
   "codemirror_mode": {
    "name": "ipython",
    "version": 3
   },
   "file_extension": ".py",
   "mimetype": "text/x-python",
   "name": "python",
   "nbconvert_exporter": "python",
   "pygments_lexer": "ipython3",
   "version": "3.10.9"
  }
 },
 "nbformat": 4,
 "nbformat_minor": 5
}
